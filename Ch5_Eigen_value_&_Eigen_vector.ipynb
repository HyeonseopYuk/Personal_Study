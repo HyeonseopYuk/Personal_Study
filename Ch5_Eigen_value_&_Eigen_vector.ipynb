{
  "nbformat": 4,
  "nbformat_minor": 0,
  "metadata": {
    "colab": {
      "name": "Ch5.Eigen value & Eigen vector.ipynb",
      "provenance": [],
      "collapsed_sections": [],
      "authorship_tag": "ABX9TyPO+d8g1x7x63WCXLwfnAoQ",
      "include_colab_link": true
    },
    "kernelspec": {
      "name": "python3",
      "display_name": "Python 3"
    },
    "language_info": {
      "name": "python"
    }
  },
  "cells": [
    {
      "cell_type": "markdown",
      "metadata": {
        "id": "view-in-github",
        "colab_type": "text"
      },
      "source": [
        "<a href=\"https://colab.research.google.com/github/HyeonseopYuk/Personal_Study/blob/main/Ch5_Eigen_value_%26_Eigen_vector.ipynb\" target=\"_parent\"><img src=\"https://colab.research.google.com/assets/colab-badge.svg\" alt=\"Open In Colab\"/></a>"
      ]
    },
    {
      "cell_type": "markdown",
      "metadata": {
        "id": "ct1gz8R3bd0X"
      },
      "source": [
        "# 5.1 \n",
        "__지금까지 행렬을 간단하게 만들거나 연립방정식의 해를 구하는 것에 초점을 맞췄으나,__  \n",
        "\n",
        "__이번 챕터를 통해 해를 구하는 것 뿐만 아니라 벡터 공간을 간단하게 표현하게 만드는 방법을 이해할 수 있다.__\n",
        "\n",
        "![image.png](data:image/png;base64,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)"
      ]
    },
    {
      "cell_type": "markdown",
      "metadata": {
        "id": "SUMkp75YeL23"
      },
      "source": [
        "2차원 평면 상에 존재하는 타원에 무수히 많은 벡터가 존재한다고 가정하자. 이 때, 임의의 기저 벡터$(\\vec{\\mathbb{a}})$를 실수배 하여 나머지 벡터를 근사하게 표현하고자 한다면, 어느 방향의 벡터가 가장 적합할지 고민할 필요가 있다. 즉, $k\\vec{\\mathbb{a}}$와 원래 벡터 간 차이를 최소가 되는 벡터를 구하여 표현할 수 있을 것이다. 수식은 다음과 같다.  \n",
        "$$\\begin{Vmatrix} k\\vec{\\mathbb{a}} - \\mathbb{X} \\end{Vmatrix}$$\n",
        "\n",
        "먼저, 빨간색 벡터를 생각해보자. 빨간색 벡터로 표현할 수 있는 벡터는 2사분면과 4사분면에 해당 하는 영역이며 타원형이 차지하는 범위는 적다. 따라서 해당 벡터로는 전체 타원 범위에 존재하는 벡터를 모두 표현하기에 부족한 경향이 보인다.\n",
        "\n",
        "검은색 벡터를 보면, 1사분면 과 3사분면 대체로 타원형이 차지하는 범위가 크다고 할 수 있다. 따라서, 해당 벡터가 전체 타원 범위에 존재하는 벡터를 모두 표현하기에 충분한 경향이 보인다.  \n",
        "\n",
        "즉, 타원의 장축에 해당하는 벡터가 도형을 대표하는 벡터로 선택할 수 있을것이다.\n",
        "\n",
        "\n",
        "\n"
      ]
    },
    {
      "cell_type": "markdown",
      "metadata": {
        "id": "99bU7DqDgsWv"
      },
      "source": [
        "# __고유값과 고유벡터의 정의__  \n",
        "\n",
        "$$AX = \\lambda X$$   \n",
        "\n",
        "$A$ = 정방행렬, $\\lambda:$ 스칼라 상수값, $\\lambda:$고유값, $X:$ 고유벡터\n",
        "\n",
        "위 식을 이항하면 $(A-\\lambda I)X=0$이 되는데, X는 0이 아닌 벡터라는 조건이 있으므로, $det(A-\\lambda I)=0$이 나온다.  \n",
        "\n",
        "__Example 1__  \n",
        "\n",
        "$A = \\begin{bmatrix} 4 & -5 \\\\ 2 & -3 \\end{bmatrix}$가 있다고 할때, $A-\\lambda I \\rightarrow \\begin{vmatrix} 4-\\lambda & -5 \\\\ 2 & -3-\\lambda \\end{vmatrix}$이 되므로, $\\lambda = $ 2 or -1 이 된다.  \n",
        "\n",
        "1) $\\lambda =2$일때, $\\begin{bmatrix} 2 & -5 \\\\ 2 & -5 \\end{bmatrix}$ $\\begin{bmatrix} x_1 \\\\ x_2 \\end{bmatrix} = \\begin{bmatrix} 0 \\\\ 0 \\end{bmatrix} \\rightarrow 2x_1=5x_2:e_1$ \n",
        "\n",
        "즉, $X:$ 고유벡터 $\\rightarrow \\mathbb{N}(A-\\lambda I)$ 임을 알 수 있다.\n",
        "\n",
        "null space를 어떻게 찾을 수 있을 까 $\\rightarrow$ __Reduced Echelon form__\n",
        "\n",
        "자유변수의 열을 통해 각 성분의 부호를 바꿔가면서 벡터와 같이 선형 결합을 하면 해를 구할 수 있다. 각 고유값에 대해 null space를 구성하는 자유변수의 해는 유일하다. 또한, 각 고유값에 대응되는 고유벡터들은 서로 독립이라는 특징을 가지고 있다.  \n",
        "\n",
        "2) $\\lambda = -1$일때, $\\begin{bmatrix} 5 & -5 \\\\ 5 & -5 \\end{bmatrix}$ $\\begin{bmatrix} x_1 \\\\ x_2 \\end{bmatrix} = \\begin{bmatrix} 0 \\\\ 0 \\end{bmatrix} \\rightarrow  x_1 = x_2 : e_2$ \n",
        "\n",
        "__Example 2__  \n",
        "\n",
        "○ 삼각(또는 대각) 행렬의 고유값은 기존 행렬의 대각성분의 곱과 같다. $\\rightarrow \\Pi_{i=1}^{n} d_i$  \n",
        "\n",
        "○ 대각성분의 합 $\\sum_{i=1}^n a_{ii} = \\sum_{i=1}^n \\lambda_i$  \n",
        "\n",
        "\n",
        "\n",
        "\n",
        "\n",
        "\n"
      ]
    },
    {
      "cell_type": "markdown",
      "metadata": {
        "id": "iJ_sJPMvq7jq"
      },
      "source": [
        "# 5.2 행렬의 대각화(분해)  \n",
        "\n",
        "1) $A=LU=LDU$  \n",
        "\n",
        "2) $A=QR \\rightarrow $ 그람-슈미트 과정  \n",
        "\n",
        "3) $A=S\\Lambda S^{-1}, \\quad S : $ 고유벡터, $\\Lambda:$ 고유값으로 구성된 대각 행렬  \n",
        "\n",
        "__Example__  \n",
        "\n",
        "$A= \\begin{bmatrix} \\frac{1}{2} & \\frac{1}{2} \\\\ \\frac{1}{2} & \\frac{1}{2} \\end{bmatrix} \\rightarrow \\begin{vmatrix} \\frac{1}{2}-\\lambda & \\frac{1}{2} \\\\ \\frac{1}{2} & \\frac{1}{2}-\\lambda \\end{vmatrix}=0$이 되는 $\\lambda$를 풀어보면 각각 0과 1이 만족한다.  \n",
        "\n",
        "1) $\\lambda = 0 $에 대해, $\\begin{bmatrix} \\frac{1}{2} & \\frac{1}{2} \\\\ \\frac{1}{2} & \\frac{1}{2} \\end{bmatrix} \\begin{bmatrix} x_1 \\\\ x_2 \\end{bmatrix} = \\begin{bmatrix} 0 \\\\ 0 \\end{bmatrix} \\rightarrow e_1 = \\begin{bmatrix} 1 \\\\ -1 \\end{bmatrix}$  \n",
        "\n",
        "2) $\\lambda = 1 $에 대해, $\\begin{bmatrix} -\\frac{1}{2} & \\frac{1}{2} \\\\ \\frac{1}{2} & -\\frac{1}{2} \\end{bmatrix} \\begin{bmatrix} x_1 \\\\ x_2 \\end{bmatrix} = \\begin{bmatrix} 0 \\\\ 0 \\end{bmatrix} \\rightarrow e_2 = \\begin{bmatrix} 1 \\\\ 1 \\end{bmatrix}$  \n",
        "\n",
        "※ $S = \\begin{bmatrix} 1 & 1 \\\\ 1 & -1 \\end{bmatrix}, \\quad \\Lambda=\\begin{bmatrix} 1 & 0 \\\\ 0 & 0 \\end{bmatrix}$  \n",
        "\n",
        "\n",
        "\n",
        "\n"
      ]
    },
    {
      "cell_type": "markdown",
      "metadata": {
        "id": "XdptTR_Gr-Sp"
      },
      "source": [
        "## __<Remark 1>__  \n",
        "\n",
        "○ $n$개의 고유값들이 각각 다를 경우, 이에 대응 되는 고유벡터들은 서로 선형독립이다.  \n",
        "__Proof__ : $\\ e_1$ 이 $e_2$과 종속 관계에 있다고 가정해보자. 그러면, $e_2 = ce_1$ 이 성립할 것이다. 이 때, 양 변에 행렬 $A$를 곱해주면, $Ae_2 = cAe_1$이 될 것이고, 고유값$\\cdot$고유벡터의 성질에 의해 $\\lambda_2e_2 = c\\lambda_1e_1$임을 알 수 있다. 또한, $e_2 = ce_1$식에 $\\lambda_2$를 곱해보자. $\\lambda_2e_2 = c\\lambda_2e_1$이 되는데, 결과들을 조합해 보면 $c\\lambda_2e_1 = c\\lambda_1e_1 \\rightarrow c(\\lambda_2-\\lambda_1)e_1=0, \\quad \\lambda_2 \\neq \\lambda_1, e_1 \\neq 0$이므로, $c=0$이라는 결론이 도출된다. 즉, $e_1$과 $e_2$는 독립임을 알 수 있다.  \n",
        "\n",
        "\n",
        "#### __이를 일반화하면 아래와 같다.__   \n",
        "\n",
        "\n",
        "$e_n = c_1e_1 +c_2e_2 + \\cdots + c_{n-1}e_{n-1} \\rightarrow (\\times A) \\; Ae_n = c_1Ae_1 + c_2Ae_2 + \\cdots + c_{n-1}Ae_{n-1} \\\\ \\qquad \\qquad \\qquad \\qquad \\ \\qquad \\qquad \\qquad \\qquad \\Rightarrow \\lambda_ne_n = c_1\\lambda_1e_1 + c_2\\lambda_2e_2 + \\cdots + c_{n-1}\\lambda_{n-1}e_{n-1} \\\\ \\qquad \\qquad \\qquad \\ \\qquad \\qquad \\qquad \\qquad \\rightarrow (\\times \\lambda_n) \\lambda_ne_n = c_1\\lambda_ne_1 + c_2\\lambda_ne_2 + \\cdots + c_{n-1}\\lambda_{n}e_{n-1}$  \n",
        "\n",
        "$\\Rightarrow \\ c_1(\\lambda_n-\\lambda_1)e_1 + c_2(\\lambda_n-\\lambda_2)e_2 + \\cdots + c_{n-1}(\\lambda_n-\\lambda_{n-1})e_{n-1}=0$\n"
      ]
    },
    {
      "cell_type": "markdown",
      "metadata": {
        "id": "QE4eIxCxGZ3L"
      },
      "source": [
        "벡터 공간을 구성하는 $A$ 행렬이 있을 떄, 고유값과 고유벡터를 구하면 선형 독립인 값이 2개 존재한다. 즉, 두 벡터가 서로 수직이다. 또한 아래 그림에서 알 수 있듯이, $\\lambda_1 > \\lambda_2$ 관계를 갖는다.  \n",
        "\n",
        "![image.png](data:image/png;base64,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)\n",
        "\n"
      ]
    },
    {
      "cell_type": "markdown",
      "metadata": {
        "id": "5aJ9PucMIeNl"
      },
      "source": [
        "## __<Remark 2>__  \n",
        "\n",
        "○ 고유벡터로 구성된 행렬 $S$는 유일하지 않다. $\\rightarrow ke:$ 고유벡터의 실수배도 고유벡터 이기 때문"
      ]
    },
    {
      "cell_type": "markdown",
      "metadata": {
        "id": "LTfM-N1gcrbT"
      },
      "source": [
        "## __<Remark 3>__  \n",
        "\n",
        "고유값과 고유벡터의 순서는 동일해야한다.  \n",
        "\n"
      ]
    },
    {
      "cell_type": "markdown",
      "metadata": {
        "id": "Nu2joxxtcsi9"
      },
      "source": [
        "## __<Remark 4>__  \n",
        "\n",
        "모든 행렬이 서로 다른 $n$개의 독립된 고유벡터를 갖는 것은 아니다. $\\rightarrow A = S\\Lambda S^{-1}$이 항상 성립되는 것이 아니다.  \n"
      ]
    },
    {
      "cell_type": "markdown",
      "metadata": {
        "id": "DgTfklh_ctFr"
      },
      "source": [
        "○ Powers(거듭 제곱)  \n",
        "\n",
        "$A \\rightarrow \\lambda, e$ 일때, $A^k \\rightarrow \\lambda^k, e$  \n",
        "\n",
        "$A^k = (S\\Lambda S^{-1})\\cdots(S\\Lambda S^{-1})=S\\Lambda^k S^{-1}$  \n",
        "\n"
      ]
    },
    {
      "cell_type": "markdown",
      "metadata": {
        "id": "RERc3-UCdmQ4"
      },
      "source": [
        "# 5.3 Difference equation(선형차분방정식) & $A^k$  \n",
        "\n",
        "$u_k = \\begin{bmatrix} x_k \\\\ y_k \\end{bmatrix}, \\quad u_{k+1} = Au_k \\quad \\rightarrow \\quad u_k = A^ku_0$으로 유도할 수 있다.  \n",
        "\n",
        "○ 점화식 개념 소개  \n",
        "\n",
        "* $a_{n+1} = a_n + d$  \n",
        "* $a_{n+2}-2a_{n+1}+a_n=0$\n",
        "* $pa_{n+2}+qa_{n+1}+ra_n=0,\\; p+q+r=0$  \n",
        "$q=-p-r \\rightarrow p(a_{n+2}-a_{n+1})= r(a_{n+1}-a_n)$ 이 성립하므로, $b_{n+1} = (\\frac{r}{p})b_n \\rightarrow a_{n}=a_1+\\sum_{i=1}^{n-1}b_k=c+(\\frac{r}{p})^n$  \n",
        "\n",
        "$p+q+r \\neq 0$일 경우, $a_n \\rightarrow c_1(\\alpha_1)^n+\\cdots+c_n(\\alpha_n)^n$\n",
        "\n",
        ": $\\alpha_1^n,\\cdots, \\alpha_n^n \\rightarrow$ 함수 공간 관점에서 볼때, 기저 벡터로 볼 수 있다.\n",
        "\n",
        "○ 피보나치 수열  \n",
        "\n",
        "__Example__  \n",
        "\n",
        "$F_{k+2} = F_{k+1}+F_k, k=0,1,2,\\cdots $  \n",
        "\n",
        "$F_0=0, F_1=1,F_2=1,F_3=2,F_4=3,\\cdots$ 일때, $F_{1000}?$  \n",
        "\n",
        "$\\begin{cases} F_{k+2} = F_{k+1}+F_k \\\\ F_{k+1} = F_{k+1} \\end{cases} \\rightarrow u_k=\\begin{bmatrix} F_{k+1} \\\\ F_k \\end{bmatrix} \\Rightarrow u_{k+1}=\\begin{bmatrix} 1 & 1 \\\\ 1 & 0 \\end{bmatrix} u_k, k=0,1,2,\\cdots$  \n",
        "\n",
        "$u_{k+1} = Au_k$ 이므로, 이를 일반화 하면, $u_{k} = A^ku_0$ 이 성립한다.  \n",
        "\n",
        "$A = S\\Lambda S^{-1}\\rightarrow A^k = S\\Lambda^kS^{-1}$이므로, $u_k$에 대해 다시 정의하면 $\\begin{bmatrix} e_1 & e_2 \\end{bmatrix}\\begin{bmatrix} \\lambda_1^k & \\\\ & \\lambda_2^k \\end{bmatrix}\\begin{bmatrix} c_1 \\\\ c_2 \\end{bmatrix}, \\leftarrow S^{-1}u_0 = \\begin{bmatrix} e_1 & e_2 \\end{bmatrix}\\begin{bmatrix} c_1\\lambda_1^k & \\\\ & c_2\\lambda_2^k \\end{bmatrix} = c_1\\lambda_1^ke_1 + c_2\\lambda_2^ke_2$  \n",
        "\n",
        "$det(A-\\lambda I) = \\begin{vmatrix} 1-\\lambda & 1 \\\\ 1 & -\\lambda \\end{vmatrix}=0 \\rightarrow \\lambda^2 - \\lambda-1=0$이므로, $\\lambda_1 = \\frac{1+\\sqrt{5}}{2}, \\lambda_2 = \\frac{1-\\sqrt{5}}{2}$  \n",
        "\n",
        "$\\begin{bmatrix} 1-\\lambda & 1 \\\\ 1 & -\\lambda \\end{bmatrix}\\begin{bmatrix} x_1 \\\\ x_2 \\end{bmatrix} = \\begin{bmatrix} 0 \\\\ 0 \\end{bmatrix}\\rightarrow x_1 - \\lambda x_2 = 0$이 성립하므로, $S = \\begin{bmatrix} \\lambda_1 & \\lambda_2 \\\\ 1 & 1 \\end{bmatrix}, S^{-1} = \\frac{1}{\\lambda_1-\\lambda_2}\\begin{bmatrix} 1 & -\\lambda_2 \\\\ -1 & \\lambda_1 \\end{bmatrix}$이다.  \n",
        "\n",
        "＊ $\\begin{bmatrix} c_1 \\\\ c_2 \\end{bmatrix} = \\frac{1}{\\sqrt{5}}\\begin{bmatrix} 1 \\\\ -1 \\end{bmatrix}$ 을 위 식에 대입하면, $F_k = \\frac{1}{\\sqrt{5}}(\\frac{1+\\sqrt{5}}{2})^k - \\frac{1}{\\sqrt{5}}(\\frac{1-\\sqrt{5}}{2})^k$으로 유도할 수 있다.  \n",
        "\n",
        "\n",
        "\n",
        "\n",
        "\n",
        "\n",
        "\n",
        "\n",
        "\n",
        " \n",
        "\n",
        "\n",
        "\n"
      ]
    },
    {
      "cell_type": "markdown",
      "metadata": {
        "id": "d4Fabwsxk2cf"
      },
      "source": [
        "※  정리  \n",
        "\n",
        "$\\begin{cases} F_{k+2} = F_{k+1}+F_k \\\\ F_{k+2}-F_{k+1}-F_k=0 \\end{cases}$이라 할때, $c_1(\\lambda_1)^k+c_2(\\lambda_2)^k$으로 나타낼 수 있다. 또한, $\\lambda^2-\\lambda-1=0$으로 정의할 수 있는데, 이를 특성 방정식이라고 한다. \n",
        "\n",
        "특성 방정식이란 $det(A-\\lambda I)=0$을 만족하는 고유값의 해를 풀기 위한 식으로 이해할 수 있겠다.  "
      ]
    },
    {
      "cell_type": "markdown",
      "metadata": {
        "id": "c1OAC2zXUHqH"
      },
      "source": [
        "## ○ 최소제곱법  \n",
        "\n",
        "방정식의 개수가 미지수의 개수보다 많을 때 (즉, over constrained 조건) 해를 풀기 위함.  $Ax=b \\rightarrow A^TAx = A^Tb \\Rightarrow X =(A^TA^{-1}A^Tb)$  \n",
        "\n",
        "min $||Ax-b||^2 = J(X) \\Rightarrow \\frac{\\partial J}{\\partial X} =0 $을 만족하는 $x$의 해이다.  \n",
        "\n",
        "만약, $b=0$이면, 항상 $X$는 0이 된다. (homogeneous equation)  \n",
        "\n",
        "$\\rightarrow X=0$ (pseudo-inverse)  \n",
        "\n",
        "> min $ ||Ax||^2$을 만족하며, $||X||=1$이라는 제한 조건이 있다고 하자.  \n",
        "\n",
        "이를 풀어보면, min$(AX)^T(AX) = X^TA^TAX$임을 알수 있다. *$A^{T}Ax = \\lambda X$  \n",
        "\n",
        "$\\Rightarrow \\lambda ||X||^2 = \\lambda$  \n",
        "\n",
        "즉, $A^TA$의 최소 고유값에 대응하는 고유벡터가 해가 되는 것을 알 수 있다. 또한, 고유값은 0 이상의 값을 가진다.  \n",
        "\n",
        "> 위 식을 다르게 풀이 하는 방법  \n",
        "\n",
        "min  $||Ax||$ subject to $||X||^2=1$ 을 하나의 식으로 표현할수 있다.  \n",
        "\n",
        "$J(X,\\lambda) = ||AX||^2 + \\lambda(1-||X||^2)$  *$\\lambda$: 라그랑지안 승수  \n",
        "\n",
        "$\\frac{\\partial J}{\\partial X} =0, \\quad \\frac{\\partial J}{\\partial \\lambda}  =0$  을 만족하면, $A^TAX = \\lambda X$의 관계식이 성립한다.  \n",
        "\n",
        "\n",
        "만약, $b \\neq 0$이면, Non-homogeneous equation 이라고 할 수 있다.  \n",
        "\n",
        "\n",
        "\n",
        "\n",
        "\n"
      ]
    },
    {
      "cell_type": "markdown",
      "metadata": {
        "id": "S-u2rfEPMM6a"
      },
      "source": [
        "○ 차분 방정식 (복습) \n",
        "\n",
        "$Pa_{n+2}+qa_{n+1}+ra_n=0$  \n",
        "\n",
        "$a_n \\rightarrow (\\lambda)^n$ 형태 $\\quad a_n= c_1(\\lambda_1)^n + c_2(\\lambda_2)^n$  \n",
        "\n",
        "$P\\lambda^{n+2} + q\\lambda^{n+1}+r\\lambda^n=0$으로 접근할 수 있다. (행렬로 접근하는 방법은 생략)  \n",
        "\n",
        "○ 차분 방정식의 해를 풀었을 때 중근 (* 같은 해가 두 번 이상 거듭되어 나오는 경우)이 발생한 경우, 즉 $\\lambda \\rightarrow $중근일 때 기저는 1개다.  \n",
        "\n",
        "$c_1(\\lambda)^n + c_2n(\\lambda)^n:\\;$(중근), $\\quad c_1(\\lambda)^n + c_2n(\\lambda)^n+c_3n^2(\\lambda)^n:\\;$(삼중근)  \n",
        "\n",
        "○ 특정해  \n",
        "\n",
        "$Pa_{n+2}+qa_{n+1}+ra_n=2(\\frac{1}{2})^n$일 때, 특정해는 $c(\\frac{1}{2})^n$으로 정의할 수 있다.  \n",
        "\n",
        "$C(P(\\frac{1}{2})^{n+2}+q(\\frac{1}{2})^{n+1}+r(\\frac{1}{2})^{n}) = 2(\\frac{1}{2})^n \\Rightarrow C(\\frac{P}{4}+\\frac{q}{2}+r)=2$ 이므로, $C$의 값을 알 수 있다.  \n",
        "\n",
        "따라서, Homogeneous 의 해와 특정해를 더하면 일반해가 된다.  \n",
        "\n",
        "이를 기하학적인 접근으로 해석해보면 원점으로 지나는 Null space가 벡터 공간과 서로 평행인 형상이다.  \n",
        "\n",
        "\n",
        "\n",
        "\n",
        "\n",
        "\n",
        "\n"
      ]
    },
    {
      "cell_type": "markdown",
      "metadata": {
        "id": "oCqFNlK2W2eJ"
      },
      "source": [
        "# 마르코프 행렬  \n",
        "\n",
        "__Example - 일기예보__  \n",
        "\n",
        "$\\begin{cases} 맑 \\rightarrow 맑: 0.7 \\\\ 맑 \\rightarrow 흐 : 0.2 \\\\ 맑 \\rightarrow 비 : 0.1 \\end{cases}, \\begin{cases} 흐 \\rightarrow 맑: 0.2 \\\\ 흐 \\rightarrow 흐 : 0.6 \\\\ 흐 \\rightarrow 비 : 0.2 \\end{cases} \\begin{cases} 비 \\rightarrow 맑: 0.2 \\\\ 비 \\rightarrow 흐 : 0.5 \\\\ 비 \\rightarrow 비 : 0.3 \\end{cases}$  \n",
        "\n",
        "즉, 과거 상태가 현재 상태에 미치는 영향을 예측하고자 한다.  \n",
        "\n",
        "\n",
        "\n",
        "\n",
        "\n"
      ]
    },
    {
      "cell_type": "markdown",
      "metadata": {
        "id": "AdON9Izg0RKt"
      },
      "source": [
        "__Example - 이사__  \n",
        "\n",
        "마르코프 체인의 예\n",
        "\n",
        "* 타지사람들의 1/10이 캘리포니아로 이주한다.  \n",
        "\n",
        "* 캘리포니아 사람들의 2/10이 타지로 이주한다.\n",
        "![image.png](data:image/png;base64,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)"
      ]
    },
    {
      "cell_type": "markdown",
      "metadata": {
        "id": "BlSuNV3r1LzW"
      },
      "source": [
        "$y_{k+1} = 0.9y_k+0.2z_k, \\qquad z_{k+1} = 0.1y_k + 0.8z_k$  \n",
        "\n",
        "위 식을 행렬로 표현하면 다음과 같다.  \n",
        "\n",
        "$\\begin{bmatrix} y_{k+1} \\\\ z_{k+1} \\end{bmatrix} = \\begin{bmatrix} 0.9 & 0.2 \\\\ 0.1 & 0.8 \\end{bmatrix}\\begin{bmatrix} y_k \\\\ z_k \\end{bmatrix} \\Rightarrow u_{k+1} = Au_k$이므로, $u_k = A^ku_0$과 같다.  \n",
        "\n",
        "이때, $A$를 마르코프 전이행렬라고 한다. $A$의 열벡터의 합이 1이므로 꼭 한 개가 $\\lambda_1=1$이 나온다. 또한 나머지 고유값들은 다음과 같다. $(|\\lambda_i|<1)$  \n",
        "\n",
        "$u_k = \\begin{bmatrix} e_1 & e_2 \\end{bmatrix}\\begin{bmatrix} \\lambda_1 & 0 \\\\ 0 & \\lambda_2 \\end{bmatrix}\\begin{bmatrix} c_1 \\\\ c_2 \\end{bmatrix} (S\\Lambda S^{-1}u_0) \\rightarrow \\begin{bmatrix} y_k \\\\ z_k \\end{bmatrix} =c_1\\lambda_1^ke_1 + c_2\\lambda_2^ke_2$  \n",
        "\n",
        "$\\lim_{k \\to \\infty}u_k $이면 수렴이 되며, 수렴 최종 상태를 Stable state 라고 한다. $u_s = Au_s$  \n",
        "\n",
        "$ \\begin{vmatrix} 0.9 - \\lambda & 0.2 \\\\ 0.1 & 0.8-\\lambda \\end{vmatrix}=0$을 만족하는 해를 풀어보면 각각 $\\lambda_1 =1, \\lambda_2 = 0.7$ 갖는다.  \n",
        "\n",
        "$\\begin{cases} \\begin{bmatrix} -0.1 & 0.2 \\\\ 0.1 & -0.2 \\end{bmatrix}\\begin{bmatrix} x_1 \\\\ x_2 \\end{bmatrix} \\rightarrow x_1 = 2x_2, \\quad \\lambda_1 =1\\\\\n",
        "\\begin{bmatrix} 0.2 & 0.2 \\\\ 0.1 & 0.1 \\end{bmatrix} \\begin{bmatrix} x_1 \\\\ x_2 \\end{bmatrix} \\rightarrow x_1 = -x_2, \\quad \\lambda_2 =0.7 \\end{cases}$ 이므로, $S = \\begin{bmatrix} 2 & 1 \\\\1 & -1 \\end{bmatrix}$이 된다.   \n",
        "\n",
        "\n",
        "* $u_0 = [y_0,z_0]^T$라고 하면, \n",
        "$\\quad S\\Lambda^kS^{-1}\\begin{bmatrix} y_0 \\\\ z_0 \\end{bmatrix} = \\frac{(y_0+z_0)}{3}\\begin{bmatrix} 2 \\\\ 1  \\end{bmatrix} \\cdot 1 ^k + \\frac{(y_0-2z_0)}{3}\\begin{bmatrix} 1 \\\\ -1  \\end{bmatrix} \\cdot (0.7)^k$ 이 된다.  \n",
        "\n",
        "__Stable State:__  $k \\to \\infty$  \n",
        "\n",
        "$\\begin{bmatrix} y_{\\infty} \\\\ z_{\\infty} \\end{bmatrix} = (y_0+z_0) \\begin{bmatrix} \\frac{2}{3} \\\\ \\frac{1}{3} \\end{bmatrix}$ 이 성립 된다.  \n",
        "\n",
        "위 식을 통해 $\\lambda=1$ 해당하는 고유벡터를 통해 Initial state으로 Stable State 구할 수있다. \n",
        "\n",
        "○ Markov-matrix 특징  \n",
        "\n",
        "* 상태 전이 확률을 행렬로 표현한 것이다.  \n",
        "\n",
        "* 특정 열에 대해서 모든 행들을 합하면 즉, $\\sum_{i=1}^n a_{ij}=1, \\quad 0 \\leq a_{ij} < 1$  \n",
        "\n",
        "* 마르코프 행렬은 고유값 1을 갖고, 1이 아닌 값도 얻지만 stable state를 풀기 위해서는 고유값이 1에 대응하는 고유벡터만 요구된다.  \n",
        "\n",
        "* $|\\lambda_i|<1 \\quad  \\forall \\infty\\rightarrow $ stable  \n",
        "\n",
        "\n",
        "\n",
        "\n",
        " . \n",
        "\n",
        "\n",
        "\n",
        "\n",
        "\n",
        "\n",
        "\n",
        "\n",
        "\n",
        "\n",
        "\n",
        "\n",
        "\n",
        "\n",
        "\n",
        "\n",
        "\n",
        "\n"
      ]
    },
    {
      "cell_type": "markdown",
      "metadata": {
        "id": "0fDfaZyuC2IK"
      },
      "source": [
        "# 미분 방정식을 이해하기 위한 기초  \n",
        "\n",
        "\n",
        "○ 미분의 특징  \n",
        "\n",
        "* $c_0e^{at} \\quad \\rightarrow^{\\frac{d}{dt}} \\quad c_0ae^{at}$  \n",
        "\n",
        "* $y(t) \\quad \\rightarrow^{\\frac{dy(t)}{dt}} \\quad ay(t)$  \n",
        "\n",
        "__Example__  \n",
        "\n",
        "\n",
        "$$a_{n+1}-ra_n =0, \\quad a_{n+1} = y'(t) \\\\ \\rightarrow y'(t)-ay(t)=0 \\\\ \\rightarrow y('t) = ay(t)$$ 이므로, $y(t)=c\\cdot e^{at}$ 이 성립한다.  \n",
        "\n",
        "위 식을 __일차 함수 미분 방정식(Ordinary-1st-order-differential equation)__이라 한다.  \n",
        "\n",
        "* $\\int \\frac{f'(x)}{f(x)}dx = c\\cdot log \\; f(x)$  \n",
        "\n",
        "\n",
        "$$y'(t)+ay(t)=0 \\\\  y(t) = c \\cdot e^{-at}$$\n",
        "이때, $e^{-at}$는 임의의 기저 함수, $c$는 실수값이며 이들의 선형 결합으로 함수 공간을 표현할 수 있다.  \n"
      ]
    },
    {
      "cell_type": "markdown",
      "metadata": {
        "id": "aFpxbBbrHq5e"
      },
      "source": [
        "# 5.4 연립미분방정식과 행렬  \n",
        "\n",
        "$$y' = \\frac{dy}{dt} \\\\ y'-ay=0 \\\\ \\frac{dy}{dt} = ay \\\\ \\int \\frac{1}{y}dy = \\int adt \\\\ ※ \\ln y = at+ \\tilde{c}$$"
      ]
    }
  ]
}